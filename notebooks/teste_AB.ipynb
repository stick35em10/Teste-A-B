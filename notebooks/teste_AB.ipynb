{
 "cells": [
  {
   "cell_type": "markdown",
   "metadata": {
    "colab_type": "text",
    "id": "view-in-github"
   },
   "source": [
    "<a href=\"https://colab.research.google.com/github/stick35em10/Teste-A-B/blob/main/notebooks/teste_AB.ipynb\" target=\"_parent\"><img src=\"https://colab.research.google.com/assets/colab-badge.svg\" alt=\"Open In Colab\"/></a>"
   ]
  },
  {
   "cell_type": "code",
   "execution_count": 1,
   "metadata": {
    "colab": {
     "base_uri": "https://localhost:8080/"
    },
    "id": "CJTn2Q7kI2bp",
    "outputId": "fcf49e3c-7bc9-4e01-9082-0cf4cc4ed180"
   },
   "outputs": [
    {
     "name": "stdout",
     "output_type": "stream",
     "text": [
      "Requirement already satisfied: pandas in c:\\users\\admin\\anaconda3\\lib\\site-packages (1.5.3)\n",
      "Requirement already satisfied: python-dateutil>=2.8.1 in c:\\users\\admin\\anaconda3\\lib\\site-packages (from pandas) (2.8.2)\n",
      "Requirement already satisfied: pytz>=2020.1 in c:\\users\\admin\\anaconda3\\lib\\site-packages (from pandas) (2022.7)\n",
      "Requirement already satisfied: numpy>=1.21.0 in c:\\users\\admin\\anaconda3\\lib\\site-packages (from pandas) (1.24.3)\n",
      "Requirement already satisfied: six>=1.5 in c:\\users\\admin\\anaconda3\\lib\\site-packages (from python-dateutil>=2.8.1->pandas) (1.16.0)\n"
     ]
    }
   ],
   "source": [
    "# instalations\n",
    "#!pip install -r requirementes.txt\n",
    "#!pip install pandas"
   ]
  },
  {
   "cell_type": "code",
   "execution_count": 2,
   "metadata": {
    "colab": {
     "base_uri": "https://localhost:8080/"
    },
    "id": "hRd3VT0Lff7Z",
    "outputId": "9cdcfe2e-e333-4368-f2ef-eb58b8154be5"
   },
   "outputs": [
    {
     "name": "stdout",
     "output_type": "stream",
     "text": [
      "Requirement already satisfied: statsmodels in c:\\users\\admin\\anaconda3\\lib\\site-packages (0.13.5)\n",
      "Requirement already satisfied: pandas>=0.25 in c:\\users\\admin\\anaconda3\\lib\\site-packages (from statsmodels) (1.5.3)\n",
      "Requirement already satisfied: patsy>=0.5.2 in c:\\users\\admin\\anaconda3\\lib\\site-packages (from statsmodels) (0.5.3)\n",
      "Requirement already satisfied: packaging>=21.3 in c:\\users\\admin\\anaconda3\\lib\\site-packages (from statsmodels) (23.0)\n",
      "Requirement already satisfied: scipy>=1.3 in c:\\users\\admin\\anaconda3\\lib\\site-packages (from statsmodels) (1.10.1)\n",
      "Requirement already satisfied: numpy>=1.17 in c:\\users\\admin\\anaconda3\\lib\\site-packages (from statsmodels) (1.24.3)\n",
      "Requirement already satisfied: python-dateutil>=2.8.1 in c:\\users\\admin\\anaconda3\\lib\\site-packages (from pandas>=0.25->statsmodels) (2.8.2)\n",
      "Requirement already satisfied: pytz>=2020.1 in c:\\users\\admin\\anaconda3\\lib\\site-packages (from pandas>=0.25->statsmodels) (2022.7)\n",
      "Requirement already satisfied: six in c:\\users\\admin\\anaconda3\\lib\\site-packages (from patsy>=0.5.2->statsmodels) (1.16.0)\n"
     ]
    }
   ],
   "source": [
    "# instalations\n",
    "#!pip install statsmodels"
   ]
  },
  {
   "cell_type": "markdown",
   "metadata": {
    "id": "d84-sV8rbZ04"
   },
   "source": [
    "# **0.0. Import packages**"
   ]
  },
  {
   "cell_type": "code",
   "execution_count": 3,
   "metadata": {
    "id": "fkn_IOuGIwOv"
   },
   "outputs": [],
   "source": [
    "# imports\n",
    "import pandas as pd\n",
    "#from google.colab import drive\n"
   ]
  },
  {
   "cell_type": "code",
   "execution_count": 4,
   "metadata": {
    "id": "ng7Znvi4fmm9"
   },
   "outputs": [],
   "source": [
    "#import statsmodels.stats.power as sms\n",
    "import math"
   ]
  },
  {
   "cell_type": "markdown",
   "metadata": {},
   "source": [
    "# 0.1 Help Functions"
   ]
  },
  {
   "cell_type": "code",
   "execution_count": 19,
   "metadata": {},
   "outputs": [],
   "source": [
    "# =====================\n",
    "# 1. TESTE Z PARA PROPORÇÕES\n",
    "# =====================\n",
    "\n",
    "def realizar_teste_ab(n_control, n_treatment, conv_control, conv_treatment, alpha=0.05):\n",
    "    \"\"\"\n",
    "    Realiza teste A/B para diferença de proporções\n",
    "    \"\"\"\n",
    "    print(\"🎯 TESTE A/B - DIFERENÇA DE PROPORÇÕES\")\n",
    "    print(\"=\" * 50)\n",
    "\n",
    "    # Calcular número de conversões\n",
    "    conversoes_control = int(n_control * conv_control)\n",
    "    conversoes_treatment = int(n_treatment * conv_treatment)\n",
    "\n",
    "    print(f\"📊 Dados do Experimento:\")\n",
    "    print(f\"   Grupo Controle: {conversoes_control}/{n_control} = {conv_control:.3%}\")\n",
    "    print(f\"   Grupo Tratamento: {conversoes_treatment}/{n_treatment} = {conv_treatment:.3%}\")\n",
    "    print(f\"   Diferença absoluta: {(conv_treatment - conv_control):.3%}\")\n",
    "    print(f\"   Melhoria relativa: {((conv_treatment/conv_control)-1):.2%}\")\n",
    "    print()\n",
    "\n",
    "    # Executar teste Z para duas proporções\n",
    "    count = np.array([conversoes_control, conversoes_treatment])\n",
    "    nobs = np.array([n_control, n_treatment])\n",
    "\n",
    "    # Teste bicaudal (alternative='two-sided')\n",
    "    z_stat, p_value = proportions_ztest(count, nobs, alternative='two-sided')\n",
    "\n",
    "    print(\"📈 RESULTADOS DO TESTE ESTATÍSTICO\")\n",
    "    print(\"=\" * 50)\n",
    "    print(f\"   Estatística Z: {z_stat:.4f}\")\n",
    "    print(f\"   Valor-p: {p_value:.6f}\")\n",
    "    print(f\"   Nível de significância (α): {alpha}\")\n",
    "    print()\n",
    "\n",
    "    # Interpretação do resultado\n",
    "    if p_value < alpha:\n",
    "        print(\"✅ RESULTADO: SIGNIFICATIVO\")\n",
    "        print(\"   Rejeitamos a hipótese nula (H₀)\")\n",
    "        print(\"   A diferença é estatisticamente significativa!\")\n",
    "    else:\n",
    "        print(\"❌ RESULTADO: NÃO SIGNIFICATIVO\")\n",
    "        print(\"   Não rejeitamos a hipótese nula (H₀)\")\n",
    "        print(\"   A diferença pode ser devido ao acaso\")\n",
    "\n",
    "    return z_stat, p_value\n",
    "\n",
    "# =====================\n",
    "# 2. INTERVALO DE CONFIANÇA\n",
    "# =====================\n",
    "\n",
    "def calcular_intervalo_confianca(n_control, n_treatment, conv_control, conv_treatment, conf_level=0.95):\n",
    "    \"\"\"\n",
    "    Calcula o intervalo de confiança para a diferença\n",
    "    \"\"\"\n",
    "    print(\"\\n🎯 INTERVALO DE CONFIANÇA\")\n",
    "    print(\"=\" * 50)\n",
    "\n",
    "    # Diferença observada\n",
    "    diff = conv_treatment - conv_control\n",
    "\n",
    "    # Erro padrão da diferença\n",
    "    se_control = np.sqrt(conv_control * (1 - conv_control) / n_control)\n",
    "    se_treatment = np.sqrt(conv_treatment * (1 - conv_treatment) / n_treatment)\n",
    "    se_diff = np.sqrt(se_control**2 + se_treatment**2)\n",
    "\n",
    "    # Valor Z para o nível de confiança\n",
    "    z_value = stats.norm.ppf(1 - (1 - conf_level) / 2)\n",
    "\n",
    "    # Intervalo de confiança\n",
    "    margem_erro = z_value * se_diff\n",
    "    ic_inferior = diff - margem_erro\n",
    "    ic_superior = diff + margem_erro\n",
    "\n",
    "    print(f\"   Diferença observada: {diff:.4f} ({diff:.3%})\")\n",
    "    print(f\"   Erro padrão: {se_diff:.6f}\")\n",
    "    print(f\"   Intervalo de {conf_level:.0%} confiança:\")\n",
    "    print(f\"   [{ic_inferior:.4f}, {ic_superior:.4f}]\")\n",
    "    print(f\"   Ou: [{ic_inferior:.3%}, {ic_superior:.3%}]\")\n",
    "\n",
    "    return (ic_inferior, ic_superior)\n",
    "\n",
    "# =====================\n",
    "# 3. PODER ESTATÍSTICO\n",
    "# =====================\n",
    "\n",
    "def analisar_poder_estatistico(n_control, n_treatment, conv_control, conv_treatment, alpha=0.05):\n",
    "    \"\"\"\n",
    "    Analisa o poder estatístico do teste\n",
    "    \"\"\"\n",
    "    print(\"\\n🎯 ANÁLISE DO PODER ESTATÍSTICO\")\n",
    "    print(\"=\" * 50)\n",
    "\n",
    "    # Tamanho do efeito\n",
    "    effect_size = proportion_effectsize(conv_control, conv_treatment)\n",
    "\n",
    "    # Calcular poder estatístico\n",
    "    power_analysis = NormalIndPower()\n",
    "    poder_calculado = power_analysis.solve_power(\n",
    "        effect_size=effect_size,\n",
    "        nobs1=n_control,\n",
    "        alpha=alpha,\n",
    "        power=None\n",
    "    )\n",
    "\n",
    "    print(f\"   Tamanho do efeito: {effect_size:.4f}\")\n",
    "    print(f\"   Poder estatístico calculado: {poder_calculado:.3f}\")\n",
    "\n",
    "    # Verificar se o poder é adequado\n",
    "    if poder_calculado >= 0.8:\n",
    "        print(\"   ✅ Poder estatístico adequado (≥ 0.8)\")\n",
    "    else:\n",
    "        print(\"   ⚠️  Poder estatístico insuficiente (< 0.8)\")\n",
    "\n",
    "    return poder_calculado\n",
    "\n",
    "# =====================\n",
    "# 4. TAMANHO MÍNIMO DETECTÁVEL (MDE)\n",
    "# =====================\n",
    "\n",
    "def calcular_mde(n_control, n_treatment, conv_control, alpha=0.05, power=0.80):\n",
    "    \"\"\"\n",
    "    Calcula o efeito mínimo detectável (MDE)\n",
    "    \"\"\"\n",
    "    print(\"\\n🎯 EFEITO MÍNIMO DETECTÁVEL (MDE)\")\n",
    "    print(\"=\" * 50)\n",
    "\n",
    "    power_analysis = NormalIndPower()\n",
    "\n",
    "    # Calcular MDE para o poder desejado\n",
    "    effect_size_required = power_analysis.solve_power(\n",
    "        nobs1=n_control,\n",
    "        alpha=alpha,\n",
    "        power=power,\n",
    "        effect_size=None\n",
    "    )\n",
    "\n",
    "    # Converter effect size de volta para diferença de proporções\n",
    "    # Para proporções: effect_size = 2 * arcsin(sqrt(p1)) - 2 * arcsin(sqrt(p2))\n",
    "    # Podemos aproximar invertendo a fórmula\n",
    "    from math import sin, asin, sqrt\n",
    "\n",
    "    # Aproximação do MDE\n",
    "    arcsin_p1 = 2 * asin(sqrt(conv_control))\n",
    "    arcsin_p2_required = arcsin_p1 + effect_size_required\n",
    "    p2_required = (sin(arcsin_p2_required / 2)) ** 2\n",
    "    mde_absoluto = p2_required - conv_control\n",
    "\n",
    "    print(f\"   Conversão base (controle): {conv_control:.3%}\")\n",
    "    print(f\"   MDE absoluto: {mde_absoluto:.4f} ({mde_absoluto:.3%})\")\n",
    "    print(f\"   Efeito observado: {conversion_treatment - conversion_control:.4f} ({(conversion_treatment - conversion_control):.3%})\")\n",
    "\n",
    "    # Comparar com efeito observado\n",
    "    efeito_observado = conversion_treatment - conversion_control\n",
    "    if efeito_observado >= mde_absoluto:\n",
    "        print(\"   ✅ Efeito observado maior que MDE\")\n",
    "    else:\n",
    "        print(\"   ⚠️  Efeito observado menor que MDE\")\n",
    "\n",
    "    return mde_absoluto\n",
    "\n",
    "# =====================\n",
    "# 5. EXECUÇÃO COMPLETA\n",
    "# =====================\n",
    "\n",
    "def executar_analise_completa():\n",
    "    \"\"\"\n",
    "    Executa toda a análise estatística do teste A/B\n",
    "    \"\"\"\n",
    "    print(\"🧪 ANÁLISE ESTATÍSTICA COMPLETA DO TESTE A/B\")\n",
    "    print(\"=\" * 60)\n",
    "\n",
    "    # 1. Teste de hipóteses\n",
    "    z_stat, p_value = realizar_teste_ab(\n",
    "        n_control, n_treatment,\n",
    "        conversion_control, conversion_treatment,\n",
    "        alpha\n",
    "    )\n",
    "\n",
    "    # 2. Intervalo de confiança\n",
    "    ic = calcular_intervalo_confianca(\n",
    "        n_control, n_treatment,\n",
    "        conversion_control, conversion_treatment\n",
    "    )\n",
    "\n",
    "    # 3. Poder estatístico\n",
    "    poder = analisar_poder_estatistico(\n",
    "        n_control, n_treatment,\n",
    "        conversion_control, conversion_treatment,\n",
    "        alpha\n",
    "    )\n",
    "\n",
    "    # 4. MDE\n",
    "    mde = calcular_mde(n_control, n_treatment, conversion_control, alpha, power)\n",
    "\n",
    "    # 5. Resumo executivo\n",
    "    print(\"\\n\" + \"🎯 RESUMO EXECUTIVO\" + \"=\" * 50)\n",
    "\n",
    "    efeito_observado = conversion_treatment - conversion_control\n",
    "    significativo = p_value < alpha\n",
    "    poder_adequado = poder >= 0.8\n",
    "\n",
    "    print(f\"📊 Resultado Principal:\")\n",
    "    print(f\"   • Diferença: {efeito_observado:.3%} ({conversion_treatment/conversion_control-1:+.1%})\")\n",
    "    print(f\"   • Significativo: {'✅ SIM' if significativo else '❌ NÃO'}\")\n",
    "    print(f\"   • Poder adequado: {'✅ SIM' if poder_adequado else '❌ NÃO'}\")\n",
    "    print(f\"   • Valor-p: {p_value:.6f}\")\n",
    "\n",
    "    print(f\"\\n💡 Recomendação:\")\n",
    "    if significativo and poder_adequado:\n",
    "        print(\"   ✅ IMPLEMENTAR - Resultado confiável e significativo\")\n",
    "    elif significativo and not poder_adequado:\n",
    "        print(\"   ⚠️  CAUTELA - Significativo mas poder insuficiente\")\n",
    "    elif not significativo and poder_adequado:\n",
    "        print(\"   ❌ NÃO IMPLEMENTAR - Diferença não significativa\")\n",
    "    else:\n",
    "        print(\"   🔄 MAIS DADOS - Poder insuficiente para conclusão\")\n",
    "\n",
    "    return {\n",
    "        'z_statistic': z_stat,\n",
    "        'p_value': p_value,\n",
    "        'confidence_interval': ic,\n",
    "        'power': poder,\n",
    "        'mde': mde,\n",
    "        'significant': significativo,\n",
    "        'adequate_power': poder_adequado\n",
    "    }\n"
   ]
  },
  {
   "cell_type": "markdown",
   "metadata": {
    "id": "nGaOxtWzbzRY"
   },
   "source": [
    "# **1.0. Load data**"
   ]
  },
  {
   "cell_type": "code",
   "execution_count": 5,
   "metadata": {
    "id": "P2eC_cadKrA-"
   },
   "outputs": [],
   "source": [
    "#!pwd\n",
    "#!ls /content/drive/MyDrive/'Colab Notebooks'/'Teste AB'/dataset/ab_data.crdownload #/sample_data/\n",
    "#df_raw.shape: (18583, 5)\n",
    "#path_ab_data = '/content/drive/MyDrive/Colab Notebooks/Teste AB/dataset/ab_data.crdownload' #/sample_data/'\n",
    "#df_raw.shape: (294478, 5)\n",
    "#path_ab_data = '/content/drive/MyDrive/Colab Notebooks/Teste AB/dataset/ab_data_.csv'\n",
    "#!ls ../data/raw/ab_data_.csv\n",
    "path_ab_data ='../data/raw/ab_data_.csv' #data/raw/ab_data_.csv'\n",
    "\n"
   ]
  },
  {
   "cell_type": "code",
   "execution_count": 6,
   "metadata": {},
   "outputs": [
    {
     "data": {
      "text/html": [
       "<div>\n",
       "<style scoped>\n",
       "    .dataframe tbody tr th:only-of-type {\n",
       "        vertical-align: middle;\n",
       "    }\n",
       "\n",
       "    .dataframe tbody tr th {\n",
       "        vertical-align: top;\n",
       "    }\n",
       "\n",
       "    .dataframe thead th {\n",
       "        text-align: right;\n",
       "    }\n",
       "</style>\n",
       "<table border=\"1\" class=\"dataframe\">\n",
       "  <thead>\n",
       "    <tr style=\"text-align: right;\">\n",
       "      <th></th>\n",
       "      <th>user_id</th>\n",
       "      <th>timestamp</th>\n",
       "      <th>group</th>\n",
       "      <th>landing_page</th>\n",
       "      <th>converted</th>\n",
       "    </tr>\n",
       "  </thead>\n",
       "  <tbody>\n",
       "    <tr>\n",
       "      <th>0</th>\n",
       "      <td>851104</td>\n",
       "      <td>2017-01-21 22:11:48.556739</td>\n",
       "      <td>control</td>\n",
       "      <td>old_page</td>\n",
       "      <td>0</td>\n",
       "    </tr>\n",
       "    <tr>\n",
       "      <th>1</th>\n",
       "      <td>804228</td>\n",
       "      <td>2017-01-12 08:01:45.159739</td>\n",
       "      <td>control</td>\n",
       "      <td>old_page</td>\n",
       "      <td>0</td>\n",
       "    </tr>\n",
       "    <tr>\n",
       "      <th>2</th>\n",
       "      <td>661590</td>\n",
       "      <td>2017-01-11 16:55:06.154213</td>\n",
       "      <td>treatment</td>\n",
       "      <td>new_page</td>\n",
       "      <td>0</td>\n",
       "    </tr>\n",
       "    <tr>\n",
       "      <th>3</th>\n",
       "      <td>853541</td>\n",
       "      <td>2017-01-08 18:28:03.143765</td>\n",
       "      <td>treatment</td>\n",
       "      <td>new_page</td>\n",
       "      <td>0</td>\n",
       "    </tr>\n",
       "    <tr>\n",
       "      <th>4</th>\n",
       "      <td>864975</td>\n",
       "      <td>2017-01-21 01:52:26.210827</td>\n",
       "      <td>control</td>\n",
       "      <td>old_page</td>\n",
       "      <td>1</td>\n",
       "    </tr>\n",
       "  </tbody>\n",
       "</table>\n",
       "</div>"
      ],
      "text/plain": [
       "   user_id                   timestamp      group landing_page  converted\n",
       "0   851104  2017-01-21 22:11:48.556739    control     old_page          0\n",
       "1   804228  2017-01-12 08:01:45.159739    control     old_page          0\n",
       "2   661590  2017-01-11 16:55:06.154213  treatment     new_page          0\n",
       "3   853541  2017-01-08 18:28:03.143765  treatment     new_page          0\n",
       "4   864975  2017-01-21 01:52:26.210827    control     old_page          1"
      ]
     },
     "execution_count": 6,
     "metadata": {},
     "output_type": "execute_result"
    }
   ],
   "source": [
    "df_raw=pd.read_csv(path_ab_data) #'/content/drive/MyDrive/Colab Notebooks/Teste AB/dataset/ab_data.crdownload')\n",
    "df_raw.head()"
   ]
  },
  {
   "cell_type": "code",
   "execution_count": 7,
   "metadata": {},
   "outputs": [
    {
     "data": {
      "text/plain": [
       "(294478, 5)"
      ]
     },
     "execution_count": 7,
     "metadata": {},
     "output_type": "execute_result"
    }
   ],
   "source": [
    "df_raw.shape"
   ]
  },
  {
   "cell_type": "markdown",
   "metadata": {
    "id": "lr0a9FXucxO5"
   },
   "source": [
    "# **2 Design de Experimentos**"
   ]
  },
  {
   "cell_type": "markdown",
   "metadata": {
    "id": "zycjjq4ec-YI"
   },
   "source": [
    "### **2.1. Formulação de Hipóteses**"
   ]
  },
  {
   "cell_type": "markdown",
   "metadata": {},
   "source": [
    "# 🧪 Passo 1: Definir o Problema de Negócio \n",
    "## 🎯 Objetivo \n",
    "Determinar se a nova página (new_page) resulta em uma taxa de conversão maior do que a página antiga (old_page)."
   ]
  },
  {
   "cell_type": "markdown",
   "metadata": {},
   "source": [
    "### 2.1.1 Definição da hipótese nula"
   ]
  },
  {
   "cell_type": "markdown",
   "metadata": {},
   "source": [
    "H₀ (Hipótese Nula): A nova página não aumenta a taxa de conversão."
   ]
  },
  {
   "cell_type": "markdown",
   "metadata": {},
   "source": [
    "### 2.1.2 Definição da hipótese alternativa"
   ]
  },
  {
   "cell_type": "markdown",
   "metadata": {},
   "source": [
    "H₁ (Hipótese Alternativa): A nova página aumenta a taxa de conversão."
   ]
  },
  {
   "cell_type": "markdown",
   "metadata": {},
   "source": [
    "#### 2.1.3 Escolha do tipo de teste:Uma ou duas caudas"
   ]
  },
  {
   "cell_type": "code",
   "execution_count": null,
   "metadata": {},
   "outputs": [],
   "source": []
  },
  {
   "cell_type": "markdown",
   "metadata": {},
   "source": [
    "#### 2.1.4 Definição do nível de confiança do experimento.()Escolha do tipo de teste:Uma ou duas caudas"
   ]
  },
  {
   "cell_type": "markdown",
   "metadata": {
    "id": "QSe7MZjESuTT"
   },
   "source": [
    "### **2.2. Parâmetros do Experimento**"
   ]
  },
  {
   "cell_type": "code",
   "execution_count": 8,
   "metadata": {},
   "outputs": [],
   "source": [
    "# nivel de confianca\n",
    "confidence_level    = 0.95\n",
    "\n",
    "# nivel de significancia\n",
    "significance_level  = 0.05\n",
    "\n",
    "# conversao da pagina actual e da nova pagina\n",
    "p1 = 0.13 # medido\n",
    "p2 = 0.15 # esperado pelo time de negocio"
   ]
  },
  {
   "cell_type": "code",
   "execution_count": 9,
   "metadata": {},
   "outputs": [
    {
     "name": "stdout",
     "output_type": "stream",
     "text": [
      "O tamanho do efeito é -0.0576728617308947\n"
     ]
    }
   ],
   "source": [
    "# tanho do efeito\n",
    "# AttributeError: module 'statsmodels.stats.power' has no attribute 'proportion_effectsize'\n",
    "#ffect_size = sms.proportion_effectsize(p1, p2) #AttributeError: module 'statsmodels.stats.power' has no attribute 'proportion_effectsize'\n",
    "\n",
    "# The function 'proportion_effectsize' is deprecated.\n",
    "# Instead, use 'compute_effect_size' from 'statsmodels.stats.proportion'\n",
    "from statsmodels.stats.proportion import proportion_effectsize\n",
    "effect_size = proportion_effectsize(p1, p2)\n",
    "print(f\"O tamanho do efeito é {effect_size}\")\n",
    "# \n"
   ]
  },
  {
   "cell_type": "code",
   "execution_count": 10,
   "metadata": {},
   "outputs": [
    {
     "name": "stdout",
     "output_type": "stream",
     "text": [
      " 4720 amostras para cada um dos grupos, de controle e de tratamento\n"
     ]
    }
   ],
   "source": [
    "import numpy as np\n",
    "\n",
    "# effect_size = sms.proportion_effectsize(p1, p2) #This function might be deprecated\n",
    "# Instead, try using the following:\n",
    "from statsmodels.stats.power import TTestIndPower, NormalIndPower\n",
    "#effect_size = (p2 - p1) / np.sqrt(p1 * (1 - p1)) # Calculate effect size manually\n",
    "\n",
    "# Poder estatística\n",
    "power = 0.80 # erro de oportunidade\n",
    "\n",
    "# sample size\n",
    "#AttributeError: 'NormalIndPower' object has no attribute 'solver_power'\n",
    "#sample_n = sms.NormalIndPower().solver_power(\n",
    "sample_n = NormalIndPower().solve_power(\n",
    "    effect_size=effect_size,\n",
    "    power=power,\n",
    "    alpha=significance_level\n",
    ") #4720\n",
    "#nobs1=None,\n",
    "#ratio=1 # Assuming equal sample sizes for both groups\n",
    "\n",
    "sample_n = math.ceil(sample_n)\n",
    "#sample_n # amostras para cada um dos grupos\n",
    "print(f' {sample_n} amostras para cada um dos grupos, de controle e de tratamento')"
   ]
  },
  {
   "cell_type": "markdown",
   "metadata": {},
   "source": [
    "# 3.0 Colecta dos dados"
   ]
  },
  {
   "cell_type": "markdown",
   "metadata": {
    "id": "giEKB7_FOVz4"
   },
   "source": [
    "## 3.1.Análise descritiva dos dados"
   ]
  },
  {
   "cell_type": "code",
   "execution_count": 11,
   "metadata": {},
   "outputs": [
    {
     "name": "stdout",
     "output_type": "stream",
     "text": [
      " A base de dados apresenta 294478 rows and 5 columns \n"
     ]
    }
   ],
   "source": [
    "# 2.0 Análise descritiva dos dados\n",
    "print(f' A base de dados apresenta {df_raw.shape[0]} rows and {df_raw.shape[1]} columns ')\n",
    "#print(f'Number of ')\n",
    "#print(f'Columns: {df_raw.columns.to_list()}"
   ]
  },
  {
   "cell_type": "markdown",
   "metadata": {
    "id": "lRqW-VI1O5IB"
   },
   "source": [
    "## 3.2.Verificação dos dados faltantes, check NA"
   ]
  },
  {
   "cell_type": "code",
   "execution_count": 12,
   "metadata": {},
   "outputs": [
    {
     "name": "stdout",
     "output_type": "stream",
     "text": [
      "✅ Os dados não apresentam dados faltantes\n",
      " Podemos proseguir\n"
     ]
    }
   ],
   "source": [
    "# Interpretação do resultado\n",
    "if df_raw.isna().sum().sum()==0:\n",
    "    print(\"✅ Os dados não apresentam dados faltantes\")\n",
    "    print(\" Podemos proseguir\")\n",
    "    #print(\"   A diferença é estatisticamente significativa!\")\n",
    "    #elif : \n",
    "else:\n",
    "    print(f'❌ Os dados tem dados faltantes, um total de {df_raw.isna().sum().sum()}')\n",
    "    print(\" Devemos analisar antes de prosseguir\")\n",
    "    print({df_raw.isna().sum()})\n",
    "#print(\"   A diferença pode ser devido ao acaso\")"
   ]
  },
  {
   "cell_type": "markdown",
   "metadata": {
    "id": "aEwVh9R6PWPe"
   },
   "source": [
    "## 3.2.Conferir as \"flags\""
   ]
  },
  {
   "cell_type": "code",
   "execution_count": 13,
   "metadata": {},
   "outputs": [
    {
     "data": {
      "text/html": [
       "<div>\n",
       "<style scoped>\n",
       "    .dataframe tbody tr th:only-of-type {\n",
       "        vertical-align: middle;\n",
       "    }\n",
       "\n",
       "    .dataframe tbody tr th {\n",
       "        vertical-align: top;\n",
       "    }\n",
       "\n",
       "    .dataframe thead th {\n",
       "        text-align: right;\n",
       "    }\n",
       "</style>\n",
       "<table border=\"1\" class=\"dataframe\">\n",
       "  <thead>\n",
       "    <tr style=\"text-align: right;\">\n",
       "      <th></th>\n",
       "      <th>group</th>\n",
       "      <th>landing_page</th>\n",
       "      <th>user_id</th>\n",
       "    </tr>\n",
       "  </thead>\n",
       "  <tbody>\n",
       "    <tr>\n",
       "      <th>0</th>\n",
       "      <td>control</td>\n",
       "      <td>new_page</td>\n",
       "      <td>1928</td>\n",
       "    </tr>\n",
       "    <tr>\n",
       "      <th>1</th>\n",
       "      <td>control</td>\n",
       "      <td>old_page</td>\n",
       "      <td>145274</td>\n",
       "    </tr>\n",
       "    <tr>\n",
       "      <th>2</th>\n",
       "      <td>treatment</td>\n",
       "      <td>new_page</td>\n",
       "      <td>145311</td>\n",
       "    </tr>\n",
       "    <tr>\n",
       "      <th>3</th>\n",
       "      <td>treatment</td>\n",
       "      <td>old_page</td>\n",
       "      <td>1965</td>\n",
       "    </tr>\n",
       "  </tbody>\n",
       "</table>\n",
       "</div>"
      ],
      "text/plain": [
       "       group landing_page  user_id\n",
       "0    control     new_page     1928\n",
       "1    control     old_page   145274\n",
       "2  treatment     new_page   145311\n",
       "3  treatment     old_page     1965"
      ]
     },
     "execution_count": 13,
     "metadata": {},
     "output_type": "execute_result"
    }
   ],
   "source": [
    "# duplicado\n",
    "#len(\n",
    "df_raw[['user_id','group','landing_page']].groupby(['group','landing_page']).count().reset_index() #.query('group == 2 and landing_page == 2')#)"
   ]
  },
  {
   "cell_type": "code",
   "execution_count": 14,
   "metadata": {
    "colab": {
     "base_uri": "https://localhost:8080/",
     "height": 174
    },
    "id": "g7DgSofuS3GD",
    "outputId": "04d79f3b-e297-43f4-b9bf-3628bd817c79"
   },
   "outputs": [
    {
     "data": {
      "text/html": [
       "<div>\n",
       "<style scoped>\n",
       "    .dataframe tbody tr th:only-of-type {\n",
       "        vertical-align: middle;\n",
       "    }\n",
       "\n",
       "    .dataframe tbody tr th {\n",
       "        vertical-align: top;\n",
       "    }\n",
       "\n",
       "    .dataframe thead th {\n",
       "        text-align: right;\n",
       "    }\n",
       "</style>\n",
       "<table border=\"1\" class=\"dataframe\">\n",
       "  <thead>\n",
       "    <tr style=\"text-align: right;\">\n",
       "      <th></th>\n",
       "      <th>group</th>\n",
       "      <th>landing_page</th>\n",
       "      <th>user_id</th>\n",
       "    </tr>\n",
       "  </thead>\n",
       "  <tbody>\n",
       "    <tr>\n",
       "      <th>0</th>\n",
       "      <td>control</td>\n",
       "      <td>new_page</td>\n",
       "      <td>1928</td>\n",
       "    </tr>\n",
       "    <tr>\n",
       "      <th>1</th>\n",
       "      <td>control</td>\n",
       "      <td>old_page</td>\n",
       "      <td>145274</td>\n",
       "    </tr>\n",
       "    <tr>\n",
       "      <th>2</th>\n",
       "      <td>treatment</td>\n",
       "      <td>new_page</td>\n",
       "      <td>145311</td>\n",
       "    </tr>\n",
       "    <tr>\n",
       "      <th>3</th>\n",
       "      <td>treatment</td>\n",
       "      <td>old_page</td>\n",
       "      <td>1965</td>\n",
       "    </tr>\n",
       "  </tbody>\n",
       "</table>\n",
       "</div>"
      ],
      "text/plain": [
       "       group landing_page  user_id\n",
       "0    control     new_page     1928\n",
       "1    control     old_page   145274\n",
       "2  treatment     new_page   145311\n",
       "3  treatment     old_page     1965"
      ]
     },
     "execution_count": 14,
     "metadata": {},
     "output_type": "execute_result"
    }
   ],
   "source": [
    "#len(\n",
    "df_raw[['user_id','group','landing_page']].groupby(['group','landing_page']).count().reset_index() #.query('group == 2 and landing_page == 2')#)"
   ]
  },
  {
   "cell_type": "code",
   "execution_count": 15,
   "metadata": {},
   "outputs": [
    {
     "name": "stdout",
     "output_type": "stream",
     "text": [
      "Dados iniciais (294478, 5)\n",
      "\n",
      "✅ A percentagem dos dados duplicados são inferiores que 5%, isto é com 1.32 % de linhas duplicadas\n",
      "portando são considerados poucos dados duplicados e podemos deletar os dados duplicados \n",
      "\n",
      "Total de dados apagagos 7788\n",
      "\n",
      "   user_id                   timestamp      group landing_page  converted\n",
      "0   851104  2017-01-21 22:11:48.556739    control     old_page          0\n",
      "1   804228  2017-01-12 08:01:45.159739    control     old_page          0\n",
      "2   661590  2017-01-11 16:55:06.154213  treatment     new_page          0\n",
      "3   853541  2017-01-08 18:28:03.143765  treatment     new_page          0\n",
      "4   864975  2017-01-21 01:52:26.210827    control     old_page          1\n",
      "\n",
      "Dados finais (286690, 5)\n"
     ]
    }
   ],
   "source": [
    "#df_raw[['user_id','group','landing_page']].groupby(['user_id']).count().reset_index().query(\"group == 'control' and (landing_page == 'new_page' or landing_page == 'old_page')\")\n",
    "linhas_com_duplicação=len(df_raw[['user_id','group','landing_page']].groupby(['user_id']).count().reset_index().query('landing_page >1'))\n",
    "percentagem_duplicado=linhas_com_duplicação/df_raw.shape[0]\n",
    "\n",
    "# Interpretação do resultado\n",
    "if percentagem_duplicado < 0.05:\n",
    "    print(f'Dados iniciais {df_raw.shape}')\n",
    "    print()\n",
    "    print(f'✅ A percentagem dos dados duplicados são inferiores que 5%, isto é com {round(percentagem_duplicado*100,2)} % de linhas duplicadas')\n",
    "    print('portando são considerados poucos dados duplicados e podemos deletar os dados duplicados ')\n",
    "    df_user_delete = df_raw[['user_id','group','landing_page']].groupby(['user_id']).count().reset_index().query('landing_page >1')['user_id']\n",
    "    #data without duplicated\n",
    "    #print(\"data without duplicated\")\n",
    "    print()\n",
    "    df1 = df_raw[~df_raw['user_id'].isin(df_user_delete)] # .groupby(['user_id']).count().reset_index().query('landing_page >1')\n",
    "    #df1.head()\n",
    "    # todo: faser uma função para verificar se existe dados duplicados, para usarmos e voltar a chamar para confirmar se ficou algum dado duplicado\n",
    "    print(f'Total de dados apagagos {df_raw.shape[0]-df1.shape[0]}')\n",
    "    print()\n",
    "    print(df1.head())\n",
    "    print()\n",
    "    #print(df1.shape)\n",
    "    print(f'Dados finais {df1.shape}')\n",
    "    #print(\" Podemos proseguir\")\n",
    "    #print(\"   A diferença é estatisticamente significativa!\")\n",
    "    #elif : \n",
    "else:\n",
    "    print(f'❌ A percentagem dos dados duplicados é superior que 5%, com {round(percentagem_duplicado*100,2)} % de linhas duplicadas')\n",
    "    print('portando são considerados muitos dados duplicados e devemos tratar os dados duplicados ')\n",
    "    #print(f' Os dados tem dados faltantes, um total de {df_raw.isna().sum().sum()}')\n",
    "    #print({df_raw.isna().sum()})\n",
    "#print(\"   A diferença pode ser devido ao acaso\")\n",
    "#print(round(percentagem_duplicado*100,2), '% de linhas duplicadas')\n",
    "\n",
    "#print('portando são poucos dados duplicados poís é menor que 5%, portanto podemos deletar os duplicados ')\n",
    "\n",
    "#df_raw[['user_id','group','landing_page']].reset_index().query('user_id in [630052,630126,630137]') #43,111,122]"
   ]
  },
  {
   "cell_type": "markdown",
   "metadata": {},
   "source": [
    "### 2.2.Amostragem aleatoria dos grupos Controle e Tratamento"
   ]
  },
  {
   "cell_type": "code",
   "execution_count": 16,
   "metadata": {
    "colab": {
     "base_uri": "https://localhost:8080/"
    },
    "id": "ycNGMP54Vt9m",
    "outputId": "2a2e1591-ae69-4bb1-8532-6b58ea4bf831"
   },
   "outputs": [
    {
     "name": "stdout",
     "output_type": "stream",
     "text": [
      "Size of Control or old_page Group: 4720\n",
      "Size of Treatment or new_page Group: 4720\n",
      "Total sample Size 9440\n"
     ]
    }
   ],
   "source": [
    "### 2.2.Amostragem aleatoria dos grupos Controle e Tratamento\n",
    "# Control Group\n",
    "df_control_sample = df1[df1['group'] == 'control'].sample(n=sample_n, random_state=42)\n",
    "print('Size of Control or old_page Group: {}'.format(df_control_sample.shape[0]))\n",
    "\n",
    "# Treatment Group\n",
    "df_treatment_sample = df1[df1['group'] == 'treatment'].sample(n=sample_n, random_state=42)\n",
    "print('Size of Treatment or new_page Group: {}'.format(df_treatment_sample.shape[0]))\n",
    "\n",
    "# Total sample Size\n",
    "df_ad = pd.concat([df_control_sample, df_treatment_sample], axis=0)\n",
    "print(\"Total sample Size\",df_ad.shape[0])\n",
    "\n",
    "#df_ad_= pd.concat([df_control_sample, df_treatment_sample]).reset_index(drop=True) #res.reindex(df_raw.index)\n",
    "#df_ad_.head()\n",
    "#print(df_ad_.shape)\n",
    "#\n",
    "# Treatement Group\n",
    "# Total Sample sizze"
   ]
  },
  {
   "cell_type": "code",
   "execution_count": 17,
   "metadata": {
    "colab": {
     "base_uri": "https://localhost:8080/",
     "height": 206
    },
    "id": "GwFYig8x6hLs",
    "outputId": "49eed2f8-3da2-4504-f22b-ac99872542a0"
   },
   "outputs": [
    {
     "data": {
      "text/html": [
       "<div>\n",
       "<style scoped>\n",
       "    .dataframe tbody tr th:only-of-type {\n",
       "        vertical-align: middle;\n",
       "    }\n",
       "\n",
       "    .dataframe tbody tr th {\n",
       "        vertical-align: top;\n",
       "    }\n",
       "\n",
       "    .dataframe thead th {\n",
       "        text-align: right;\n",
       "    }\n",
       "</style>\n",
       "<table border=\"1\" class=\"dataframe\">\n",
       "  <thead>\n",
       "    <tr style=\"text-align: right;\">\n",
       "      <th></th>\n",
       "      <th>user_id</th>\n",
       "      <th>timestamp</th>\n",
       "      <th>group</th>\n",
       "      <th>landing_page</th>\n",
       "      <th>converted</th>\n",
       "    </tr>\n",
       "  </thead>\n",
       "  <tbody>\n",
       "    <tr>\n",
       "      <th>0</th>\n",
       "      <td>851104</td>\n",
       "      <td>2017-01-21 22:11:48.556739</td>\n",
       "      <td>control</td>\n",
       "      <td>old_page</td>\n",
       "      <td>0</td>\n",
       "    </tr>\n",
       "    <tr>\n",
       "      <th>1</th>\n",
       "      <td>804228</td>\n",
       "      <td>2017-01-12 08:01:45.159739</td>\n",
       "      <td>control</td>\n",
       "      <td>old_page</td>\n",
       "      <td>0</td>\n",
       "    </tr>\n",
       "    <tr>\n",
       "      <th>2</th>\n",
       "      <td>661590</td>\n",
       "      <td>2017-01-11 16:55:06.154213</td>\n",
       "      <td>treatment</td>\n",
       "      <td>new_page</td>\n",
       "      <td>0</td>\n",
       "    </tr>\n",
       "    <tr>\n",
       "      <th>3</th>\n",
       "      <td>853541</td>\n",
       "      <td>2017-01-08 18:28:03.143765</td>\n",
       "      <td>treatment</td>\n",
       "      <td>new_page</td>\n",
       "      <td>0</td>\n",
       "    </tr>\n",
       "    <tr>\n",
       "      <th>4</th>\n",
       "      <td>864975</td>\n",
       "      <td>2017-01-21 01:52:26.210827</td>\n",
       "      <td>control</td>\n",
       "      <td>old_page</td>\n",
       "      <td>1</td>\n",
       "    </tr>\n",
       "  </tbody>\n",
       "</table>\n",
       "</div>"
      ],
      "text/plain": [
       "   user_id                   timestamp      group landing_page  converted\n",
       "0   851104  2017-01-21 22:11:48.556739    control     old_page          0\n",
       "1   804228  2017-01-12 08:01:45.159739    control     old_page          0\n",
       "2   661590  2017-01-11 16:55:06.154213  treatment     new_page          0\n",
       "3   853541  2017-01-08 18:28:03.143765  treatment     new_page          0\n",
       "4   864975  2017-01-21 01:52:26.210827    control     old_page          1"
      ]
     },
     "execution_count": 17,
     "metadata": {},
     "output_type": "execute_result"
    }
   ],
   "source": [
    "df_raw.head()"
   ]
  },
  {
   "cell_type": "markdown",
   "metadata": {},
   "source": [
    "### 2.3 Calculo da métrica de intersse entre os Grupos (conversão de cada página)"
   ]
  },
  {
   "cell_type": "code",
   "execution_count": 18,
   "metadata": {
    "colab": {
     "base_uri": "https://localhost:8080/"
    },
    "id": "DF2czsMnXegW",
    "outputId": "937b2c50-1b2c-4988-c451-585e226f2988"
   },
   "outputs": [
    {
     "name": "stdout",
     "output_type": "stream",
     "text": [
      "Conversion Rate of Control Group: 0.11546610169491525\n",
      "Conversion Rate of Treatment Group: 0.12902542372881357\n"
     ]
    },
    {
     "data": {
      "text/plain": [
       "4720"
      ]
     },
     "execution_count": 18,
     "metadata": {},
     "output_type": "execute_result"
    }
   ],
   "source": [
    "### 2.3 Calculo da métrica de intersse entre os Grupos (conversão de cada página)\n",
    "# ============================= Control Group =============================\n",
    "#sales = df_control_sample.loc[df_control_sample['landing_page'] == 'old_page', 'converted'].sum()\n",
    "sales = df_control_sample.loc[df_control_sample['converted'] == 1, 'converted'].sum()\n",
    "visit = len(df_control_sample)\n",
    "\n",
    "conversion_rate_control = sales / visit\n",
    "print('Conversion Rate of Control Group: {}'.format(conversion_rate_control))\n",
    "\n",
    "# ============================= Treatment Group =======================\n",
    "sales = df_treatment_sample.loc[df_treatment_sample['converted'] == 1, 'converted'].sum()\n",
    "visit = len(df_treatment_sample)\n",
    "\n",
    "conversion_rate_treatment = sales / visit\n",
    "print('Conversion Rate of Treatment Group: {}'.format(conversion_rate_treatment))\n",
    "\n",
    "# conver\n",
    "visit\n"
   ]
  },
  {
   "cell_type": "markdown",
   "metadata": {},
   "source": [
    "# 4.0 Testando as hipóteses"
   ]
  },
  {
   "cell_type": "code",
   "execution_count": 27,
   "metadata": {},
   "outputs": [
    {
     "name": "stdout",
     "output_type": "stream",
     "text": [
      "🧪 ANÁLISE ESTATÍSTICA COMPLETA DO TESTE A/B\n",
      "============================================================\n",
      "🎯 TESTE A/B - DIFERENÇA DE PROPORÇÕES\n",
      "==================================================\n",
      "📊 Dados do Experimento:\n",
      "   Grupo Controle: 545/4720 = 11.547%\n",
      "   Grupo Tratamento: 609/4720 = 12.903%\n",
      "   Diferença absoluta: 1.356%\n",
      "   Melhoria relativa: 11.74%\n",
      "\n",
      "📈 RESULTADOS DO TESTE ESTATÍSTICO\n",
      "==================================================\n",
      "   Estatística Z: -2.0109\n",
      "   Valor-p: 0.044336\n",
      "   Nível de significância (α): 0.05\n",
      "\n",
      "✅ RESULTADO: SIGNIFICATIVO\n",
      "   Rejeitamos a hipótese nula (H₀)\n",
      "   A diferença é estatisticamente significativa!\n",
      "\n",
      "🎯 INTERVALO DE CONFIANÇA\n",
      "==================================================\n",
      "   Diferença observada: 0.0136 (1.356%)\n",
      "   Erro padrão: 0.006741\n",
      "   Intervalo de 95% confiança:\n",
      "   [0.0003, 0.0268]\n",
      "   Ou: [0.035%, 2.677%]\n",
      "\n",
      "🎯 ANÁLISE DO PODER ESTATÍSTICO\n",
      "==================================================\n",
      "   Tamanho do efeito: -0.0414\n",
      "   Poder estatístico calculado: 0.521\n",
      "   ⚠️  Poder estatístico insuficiente (< 0.8)\n",
      "\n",
      "🎯 EFEITO MÍNIMO DETECTÁVEL (MDE)\n",
      "==================================================\n",
      "   Conversão base (controle): 11.547%\n",
      "   MDE absoluto: 0.0191 (1.906%)\n",
      "   Efeito observado: 0.0136 (1.356%)\n",
      "   ⚠️  Efeito observado menor que MDE\n",
      "\n",
      "🎯 RESUMO EXECUTIVO==================================================\n",
      "📊 Resultado Principal:\n",
      "   • Diferença: 1.356% (+11.7%)\n",
      "   • Significativo: ✅ SIM\n",
      "   • Poder adequado: ❌ NÃO\n",
      "   • Valor-p: 0.044336\n",
      "\n",
      "💡 Recomendação:\n",
      "   ⚠️  CAUTELA - Significativo mas poder insuficiente\n"
     ]
    },
    {
     "data": {
      "text/plain": [
       "{'z_statistic': -2.0109005932696107,\n",
       " 'p_value': 0.044335957690484505,\n",
       " 'confidence_interval': (0.00034629185460578575, 0.02677235221319084),\n",
       " 'power': 0.5206334688001045,\n",
       " 'mde': 0.01905933473393359,\n",
       " 'significant': True,\n",
       " 'adequate_power': False}"
      ]
     },
     "execution_count": 27,
     "metadata": {},
     "output_type": "execute_result"
    }
   ],
   "source": [
    "n_control=visit\n",
    "n_treatment=visit\n",
    "conversion_control=conversion_rate_control\n",
    "conversion_treatment=conversion_rate_treatment\n",
    "alpha=significance_level\n",
    "\n",
    "\n",
    "\n",
    "# Importações necessárias - VERSÃO CORRIGIDA\n",
    "#import numpy as np\n",
    "#import pandas as pd\n",
    "from scipy import stats\n",
    "#import statsmodels.api as sm\n",
    "from statsmodels.stats.proportion import proportions_ztest#, proportion_effectsize\n",
    "#from statsmodels.stats.power import NormalIndPower\n",
    "#import math\n",
    "executar_analise_completa()"
   ]
  },
  {
   "cell_type": "markdown",
   "metadata": {},
   "source": [
    "# 5.0 Conclusão e Considerações Financeiras"
   ]
  },
  {
   "cell_type": "markdown",
   "metadata": {},
   "source": [
    "## ✅ Resultado\n",
    "A nova página apresentou uma taxa de conversão maior (12,90% vs 11,55%). A diferença é estatisticamente significativa ao nível de 5%.\n",
    "\n",
    "## 💡 Impacto Financeiro\n",
    "### Suponha que:\n",
    "\n",
    "Tráfego mensal = 100.000 usuários\n",
    "\n",
    "Valor médio por conversão = R$ 50\n",
    "\n",
    "Melhoria esperada:\n",
    "\n",
    "Conversões adicionais = (0,1290 - 0,1155) × 100.000 ≈ 1.350\n",
    "\n",
    "### Ganho mensal = 1.350 × R$ 50 = R$ 67.500\n",
    "\n",
    "# 🚀 Recomendação\n",
    "Implementar a nova página devido:\n",
    "* ao aumento significativo na taxa de conversão e \n",
    "* retorno financeiro positivo.\n"
   ]
  }
 ],
 "metadata": {
  "celltoolbar": "Slideshow",
  "colab": {
   "authorship_tag": "ABX9TyNmbMOVcj4onphkQLR1dQQI",
   "include_colab_link": true,
   "mount_file_id": "https://github.com/stick35em10/Teste-A-B/blob/main/notebooks/teste_AB.ipynb",
   "provenance": []
  },
  "kernelspec": {
   "display_name": "Python 3 (ipykernel)",
   "language": "python",
   "name": "python3"
  },
  "language_info": {
   "codemirror_mode": {
    "name": "ipython",
    "version": 3
   },
   "file_extension": ".py",
   "mimetype": "text/x-python",
   "name": "python",
   "nbconvert_exporter": "python",
   "pygments_lexer": "ipython3",
   "version": "3.11.3"
  }
 },
 "nbformat": 4,
 "nbformat_minor": 1
}
